{
 "cells": [
  {
   "cell_type": "code",
   "execution_count": null,
   "metadata": {},
   "outputs": [],
   "source": [
    "print(\"Hello!\")"
   ]
  },
  {
   "cell_type": "markdown",
   "metadata": {},
   "source": [
    "# web scrape"
   ]
  },
  {
   "cell_type": "code",
   "execution_count": null,
   "metadata": {},
   "outputs": [],
   "source": [
    "import pandas as pd\n",
    "\n",
    "df = pd.read_excel('city_data.xlsx')\n",
    "df.head()"
   ]
  },
  {
   "cell_type": "code",
   "execution_count": null,
   "metadata": {},
   "outputs": [],
   "source": [
    "df.columns"
   ]
  },
  {
   "cell_type": "code",
   "execution_count": null,
   "metadata": {},
   "outputs": [],
   "source": [
    "import requests\n",
    "from bs4 import BeautifulSoup\n",
    "\n",
    "url = \"https://www.numbeo.com/cost-of-living/in/Tokyo?displayCurrency=USD\"\n",
    "\n",
    "\n",
    "response = requests.get(url)\n",
    "soup = BeautifulSoup(response.text, 'html.parser')\n",
    "\n",
    "\n"
   ]
  },
  {
   "cell_type": "code",
   "execution_count": null,
   "metadata": {},
   "outputs": [],
   "source": [
    "print(soup.get_text())"
   ]
  },
  {
   "cell_type": "code",
   "execution_count": null,
   "metadata": {},
   "outputs": [],
   "source": [
    "soup.find_all('table')"
   ]
  },
  {
   "cell_type": "code",
   "execution_count": null,
   "metadata": {},
   "outputs": [],
   "source": [
    "soup.find_all('table')[1]"
   ]
  },
  {
   "cell_type": "code",
   "execution_count": null,
   "metadata": {},
   "outputs": [],
   "source": [
    "pd.read_html(str(soup.find_all('table')[1]))"
   ]
  },
  {
   "cell_type": "code",
   "execution_count": null,
   "metadata": {},
   "outputs": [],
   "source": [
    "for x in df.columns:\n",
    "    print(x)"
   ]
  },
  {
   "cell_type": "markdown",
   "metadata": {},
   "source": [
    "# Langchain pipeline"
   ]
  },
  {
   "cell_type": "code",
   "execution_count": null,
   "metadata": {},
   "outputs": [],
   "source": [
    "import dotenv\n",
    "dotenv.load_dotenv()\n",
    "\n",
    "from langchain_openai import OpenAI\n",
    "from langchain_core.prompts import PromptTemplate\n"
   ]
  },
  {
   "cell_type": "code",
   "execution_count": null,
   "metadata": {},
   "outputs": [],
   "source": [
    "llm = OpenAI()\n",
    "\n",
    "prompt = PromptTemplate.from_template(\"How to say {input} in {output_language}:\\n\")\n",
    "\n",
    "chain = prompt | llm\n"
   ]
  },
  {
   "cell_type": "code",
   "execution_count": null,
   "metadata": {},
   "outputs": [],
   "source": [
    "chain.invoke(\n",
    "    {\n",
    "        \"output_language\": \"German\",\n",
    "        \"input\": \"I love programming.\",\n",
    "    }\n",
    ")"
   ]
  },
  {
   "cell_type": "code",
   "execution_count": null,
   "metadata": {},
   "outputs": [],
   "source": [
    "from langchain_core.tools import Tool\n",
    "from langchain_google_community import GoogleSearchAPIWrapper\n",
    "\n",
    "search = GoogleSearchAPIWrapper()\n",
    "\n",
    "tool = Tool(\n",
    "    name=\"google_search\",\n",
    "    description=\"Search Google for recent results.\",\n",
    "    func=search.run,\n",
    ")"
   ]
  },
  {
   "cell_type": "code",
   "execution_count": null,
   "metadata": {},
   "outputs": [],
   "source": [
    "tool.run(\"Obama's first name?\")"
   ]
  },
  {
   "cell_type": "markdown",
   "metadata": {},
   "source": [
    "# Run on Tokyo"
   ]
  },
  {
   "cell_type": "code",
   "execution_count": null,
   "metadata": {},
   "outputs": [],
   "source": [
    "from typing import Dict, Any\n",
    "\n",
    "from langchain_core.tools import Tool\n",
    "from langchain_google_community import GoogleSearchAPIWrapper\n",
    "\n",
    "import dotenv\n",
    "dotenv.load_dotenv()\n",
    "\n",
    "from langchain_openai import OpenAI\n",
    "from langchain_core.prompts import PromptTemplate\n",
    "\n",
    "search = GoogleSearchAPIWrapper()\n",
    "\n",
    "tool = Tool(\n",
    "    name=\"google_search\",\n",
    "    description=\"Search Google for recent results.\",\n",
    "    func=search.run,\n",
    ")\n",
    "\n",
    "def search_google_about_a_field(city: str, parameter:str, question: str | None, possible_answers: list[str] | None = None) -> str:\n",
    "    \n",
    "    question = f\"What is the {parameter} of {city}?\" if question is None else question\n",
    "        \n",
    "    \n",
    "    search_result = tool.run(question)\n",
    "    llm = OpenAI(temperature=0.01)\n",
    "\n",
    "    if possible_answers is None:\n",
    "        prompt = PromptTemplate.from_template(\"Given the following context, only reply with the exact {parameter} and nothing else. Donot hallucinate. Donot make up and answer. Answer using data type parseable values. If the answer is a number, Write the answer in numeric values without text\\n<context> {search_results} </context>.\\nHelpful Answer:\")\n",
    "        chain = prompt | llm\n",
    "        response = chain.invoke(\n",
    "            {\n",
    "                \"parameter\": parameter,\n",
    "                \"search_results\": search_result\n",
    "            }\n",
    "        )\n",
    "    else:\n",
    "        prompt = PromptTemplate.from_template(\"Given the following context, only reply with the exact value of \\\"{parameter}\\\" and nothing else. Donot hallucinate. Donot make up and answer. Make sure the answer is one of the ({possible_answers}). Decide for yourself which option matches the answers closely\\n<context> {search_results} </context>.\\nHelpful Answer ({possible_answers}):\")\n",
    "        chain = prompt | llm\n",
    "        response = chain.invoke(\n",
    "            {\n",
    "                \"parameter\": parameter,\n",
    "                \"search_results\": search_result,\n",
    "                \"possible_answers\": ','.join(possible_answers)    \n",
    "            }\n",
    "        )\n",
    "    return response\n",
    "\n",
    "def search_google_about_a_field_descriptive(city: str, parameter:str, question: str | None) -> str:\n",
    "    \n",
    "    question = f\"What is the {parameter} of {city}?\" if question is None else question\n",
    "        \n",
    "    \n",
    "    search_result = tool.run(question)\n",
    "    llm = OpenAI(temperature=0.01)\n",
    "\n",
    "    prompt = PromptTemplate.from_template(\"Given the following context, what is the value of the parameter \\\"{parameter}\\\".\\n<context> {search_results} </context>.\\nHelpful Answer:\")\n",
    "    chain = prompt | llm\n",
    "    response = chain.invoke(\n",
    "        {\n",
    "            \"parameter\": parameter,\n",
    "            \"search_results\": search_result\n",
    "        }\n",
    "    )\n",
    "    return response\n",
    "\n",
    "\n",
    "def process_row(city_name: str) -> Dict[str, Any]:\n",
    "\n",
    "    row_data = dict()\n",
    "    \n",
    "    row_data[\"Education Level\"] = search_google_about_a_field(city_name, \"Literacy Rate\", None).replace(\"\\n\", \"\").strip().replace(\",\", \"\")\n",
    "    row_data[\"Aveerage Income (Monthly)\"] = search_google_about_a_field(city_name, \"Average momthly Income in USD\", None).replace(\"\\n\", \"\").strip().replace(\",\", \"\")\n",
    "    row_data[\"Population Density\"] = search_google_about_a_field(city_name, \"Population Density\", None).replace(\"\\n\", \"\").strip().replace(\",\", \"\")\n",
    "    row_data['Number of Hospitals'] = search_google_about_a_field(city_name, \"Number of Hospitals\", None).replace(\"\\n\", \"\").strip().replace(\",\", \"\")      \n",
    "    row_data['Best Hospital'] = search_google_about_a_field(city_name, \"Best Hospital\", None).replace(\"\\n\", \"\").strip().replace(\",\", \"\")\n",
    "    #row_data['Remote Work Locations'] = search_google_about_a_field(city_name, \"Coworking spaces available\", f\"Are corowking spaces a thing in {city_name}\", ['YES', \"NO\"]).replace(\"\\n\", \"\").strip().replace(\",\", \"\") # TODO: validate\n",
    "    row_data['Air Conditioning'] = search_google_about_a_field(city_name, \"Air Conditioning\", f\"Is Air Conditioning available in {city_name}\", ['YES', \"NO\"]).replace(\"\\n\", \"\").strip().replace(\",\", \"\")\n",
    "    \n",
    "    row_data['Sim Card Cost'] = search_google_about_a_field(city_name, \"Sim Card Cost\", f\"Sim Card Cost in {city_name} for 20GB data\", None).replace(\"\\n\", \"\").strip().replace(\",\", \"\")\n",
    "    row_data['Airbnb Cost per Night'] = search_google_about_a_field(city_name, \"Airbnb Cost per Night\", f\"Airbnb Cost per Night in {city_name}\", None).replace(\"\\n\", \"\").strip().replace(\",\", \"\")\n",
    "    row_data['Coffee Cost per Cup'] = search_google_about_a_field(city_name, \"Coffee Cost per Cup\", f\"Coffee Cost per Cup in {city_name}\", None).replace(\"\\n\", \"\").strip().replace(\",\", \"\")\n",
    "    row_data['Population'] = search_google_about_a_field(city_name, \"Population\", f\"Population of {city_name}\", None).replace(\"\\n\", \"\").strip().replace(\",\", \"\")\n",
    "    row_data['Dinner Cost'] = search_google_about_a_field(city_name, \"Dinner Cost\", f\"Average Dinner Cost in {city_name}\", None).replace(\"\\n\", \"\").strip().replace(\",\", \"\")\n",
    "    \n",
    "    row_data['Cost of Living (Weekly)'] = search_google_about_a_field(city_name, \"Cost of Living (Weekly)\", f\"Cost of Living (Weekly) in {city_name}\", None).replace(\"\\n\", \"\").strip().replace(\",\", \"\")\n",
    "    row_data['Family Cost (Monthly)'] = search_google_about_a_field(city_name, \"Monthly Cost of living for a family of 4\", f\"Monthly Cost of living for a family of 4 in {city_name}\", None).replace(\"\\n\", \"\").strip().replace(\",\", \"\")\n",
    "\n",
    "    row_data['Tourist Arrivals (Annual)'] = search_google_about_a_field(city_name, \"Annual number of tourists\", f\"Annual number of tourists in {city_name}\", None).replace(\"\\n\", \"\").strip().replace(\",\", \"\")\n",
    "    row_data['Cashless Economy'] = search_google_about_a_field(city_name, \"Cashless Economy\", f\"Is {city_name} a cashless economy?\", ['YES', \"NO\"]).replace(\"\\n\", \"\").strip().replace(\",\", \"\")\n",
    "    \n",
    "    row_data['b_text_Best Air Carrier'] = search_google_about_a_field(city_name, \"Best Air Carrier\", f\"Best Air Carrier in {city_name}\", None).replace(\"\\n\", \"\").strip().replace(\",\", \"\")\n",
    "    row_data['b_text_Best Coffee Place'] = search_google_about_a_field(city_name, \"Best Coffee Place\", f\"Best Coffee Place in {city_name}\", None).replace(\"\\n\", \"\").strip().replace(\",\", \"\")\n",
    "    row_data['b_text_Best Online Shop'] = search_google_about_a_field(city_name, \"Best Online Shop\", f\"Best Online Shop in {city_name}\", None).replace(\"\\n\", \"\").strip().replace(\",\", \"\")\n",
    "    row_data['b_text_Best Taxi'] = search_google_about_a_field(city_name, \"Best Taxi\", f\"Best Taxi in {city_name}\", None).replace(\"\\n\", \"\").strip().replace(\",\", \"\")\n",
    "    row_data['b_text_Best Telecom'] = search_google_about_a_field(city_name, \"Best Telecom\", f\"Best Telecom in {city_name}\", None).replace(\"\\n\", \"\").strip().replace(\",\", \"\")\n",
    "    row_data['b_text_Best University'] = search_google_about_a_field(city_name, \"Best University\", f\"Best University in {city_name}\", None).replace(\"\\n\", \"\").strip().replace(\",\", \"\")\n",
    "    \n",
    "    row_data['Air Quality Index'] = search_google_about_a_field(city_name, \"Air Quality Index\", f\"Air Quality Index in {city_name}\", None).replace(\"\\n\", \"\").strip().replace(\",\", \"\")\n",
    "    row_data['Safety'] = search_google_about_a_field(city_name, \"Safety\", f\"Safety in {city_name}\", None).replace(\"\\n\", \"\").strip().replace(\",\", \"\")\n",
    "    row_data['Quality of Life Index'] = search_google_about_a_field(city_name, \"Quality of Life Index\", f\"Quality of Life Index in {city_name}\", None).replace(\"\\n\", \"\").strip().replace(\",\", \"\")\n",
    "    \n",
    "    row_data['d_Average Monthly Rent Description'] = search_google_about_a_field_descriptive(city_name, \"Average Monthly Rent\", f\"Average Monthly Rent in {city_name}\").replace(\"\\n\", \"\").strip().replace(\",\", \"\")\n",
    "    row_data['d_Climate description'] = search_google_about_a_field_descriptive(city_name, \"Climate\", f\"Climate in {city_name}\").replace(\"\\n\", \"\").strip().replace(\",\", \"\")\n",
    "    row_data['d_Connection description'] = search_google_about_a_field_descriptive(city_name, \"Intenet Connectivity\", f\"Internet Connection in {city_name}\").replace(\"\\n\", \"\").strip().replace(\",\", \"\")\n",
    "    row_data['d_CostOfLiving description'] = search_google_about_a_field_descriptive(city_name, \"Cost of Living\", f\"Cost of Living in {city_name}\").replace(\"\\n\", \"\").strip().replace(\",\", \"\")\n",
    "    row_data['d_Cultural Diversity Description'] = search_google_about_a_field_descriptive(city_name, \"Cultural Diversity\", f\"Cultural Diversity in {city_name}\").replace(\"\\n\", \"\").strip().replace(\",\", \"\")\n",
    "    row_data['d_Demography description'] = search_google_about_a_field_descriptive(city_name, \"Demography\", f\"Demography in {city_name}\").replace(\"\\n\", \"\").strip().replace(\",\", \"\")\n",
    "    row_data['d_Economy descrption'] = search_google_about_a_field_descriptive(city_name, \"Economy\", f\"Economy in {city_name}\").replace(\"\\n\", \"\").strip().replace(\",\", \"\")\n",
    "    row_data['d_Education description'] = search_google_about_a_field_descriptive(city_name, \"Education\", f\"Education in {city_name}\").replace(\"\\n\", \"\").strip().replace(\",\", \"\")\n",
    "    row_data['d_Food description'] = search_google_about_a_field_descriptive(city_name, \"Food\", f\"Food in {city_name}\").replace(\"\\n\", \"\").strip().replace(\",\", \"\")\n",
    "    row_data['d_Health description'] = search_google_about_a_field_descriptive(city_name, \"Health\", f\"Health in {city_name}\").replace(\"\\n\", \"\").strip().replace(\",\", \"\")\n",
    "    row_data['d_Overview description'] = search_google_about_a_field_descriptive(city_name, \"Overview\", f\"Overview of {city_name}\").replace(\"\\n\", \"\").strip().replace(\",\", \"\")\n",
    "    row_data['d_Quality of Life Index Description'] = search_google_about_a_field_descriptive(city_name, \"Quality of Life Index\", f\"Quality of Life Index in {city_name}\").replace(\"\\n\", \"\").strip().replace(\",\", \"\")\n",
    "    row_data['d_Safety description'] = search_google_about_a_field_descriptive(city_name, \"Safety\", f\"Safety in {city_name}\").replace(\"\\n\", \"\").strip().replace(\",\", \"\")\n",
    "    row_data['d_Tourism description'] = search_google_about_a_field_descriptive(city_name, \"Tourism\", f\"Tourism in {city_name}\").replace(\"\\n\", \"\").strip().replace(\",\", \"\")\n",
    "    row_data['d_Transport description'] = search_google_about_a_field_descriptive(city_name, \"Transport\", f\"Transport in {city_name}\").replace(\"\\n\", \"\").strip().replace(\",\", \"\")\n",
    "    row_data['d_Unemployment Rate Description'] = search_google_about_a_field_descriptive(city_name, \"Unemployment Rate\", f\"Unemployment Rate in {city_name}\").replace(\"\\n\", \"\").strip().replace(\",\", \"\")\n",
    "    \n",
    "    row_data['Climate'] = search_google_about_a_field(city_name, \"Climate\", f\"Climate in {city_name}\", [\"Tropical\", \"Desert/dry\", \"temperate\", \"continental\", \"polar\", \"Mountain Views\", \"Near Beaches\", \"Snow\", \"Clean Air\", \"rocky beaches\"]).replace(\"\\n\", \"\").strip().replace(\",\", \"\")\n",
    "    row_data['Halal Food'] = search_google_about_a_field(city_name, \"Halal Food\", f\"Availability of Halal Food in {city_name}\", [\"Mostly Halal\", \"Halal Options\", \"Begetarian\", \"Kosher\", \"Seafood\"]).replace(\"\\n\", \"\").strip().replace(\",\", \"\")\n",
    "    row_data['Food Culture'] = search_google_about_a_field(city_name, \"Food Culture\", f\"Food Culture in {city_name}\", [\"seafood\", \"Meat-lovers\", \"rice dominant\", \"plant based\", \"protein heavy\", \"carb heavy\"]).replace(\"\\n\", \"\").strip().replace(\",\", \"\")\n",
    "    row_data['Political Situation'] = search_google_about_a_field(city_name, \"Political Situation\", f\"Political Situation in {city_name}\", [\"Civil War\", \"At War\", \"Unrest\", \"Protests\", \"Calm\"]).replace(\"\\n\", \"\").strip().replace(\",\", \"\")\n",
    "    \n",
    "    row_data['Average Monthly Rent'] = search_google_about_a_field(city_name, \"Average Monthly Rent\", f\"Average Monthly Rent in {city_name}\", None).replace(\"\\n\", \"\").strip().replace(\",\", \"\")\n",
    "    row_data['Unemployment Rate'] = search_google_about_a_field(city_name, \"Unemployment Rate\", f\"Unemployment Rate in {city_name}\", None).replace(\"\\n\", \"\").strip().replace(\",\", \"\")\n",
    "    row_data['summer High'] = search_google_about_a_field(city_name, \"Summer High\", f\"Summer High temperature in {city_name}\", None).replace(\"\\n\", \"\").strip().replace(\",\", \"\")\n",
    "    row_data['Winter Low'] = search_google_about_a_field(city_name, \"Winter Low\", f\"Winter Low temperature in {city_name}\", None).replace(\"\\n\", \"\").strip().replace(\",\", \"\")\n",
    "\n",
    "    row_data['Walkablity score'] = search_google_about_a_field(city_name, \"Walkablity score\", f\"Walkablity score in {city_name}\", None).replace(\"\\n\", \"\").strip().replace(\",\", \"\")\n",
    "\n",
    "    return row_data\n",
    "\n",
    "process_row(\"Tokyo\")\n"
   ]
  },
  {
   "cell_type": "code",
   "execution_count": null,
   "metadata": {},
   "outputs": [],
   "source": [
    "google_able_fields = [\n",
    "    \n",
    "]"
   ]
  },
  {
   "cell_type": "code",
   "execution_count": null,
   "metadata": {},
   "outputs": [],
   "source": []
  }
 ],
 "metadata": {
  "kernelspec": {
   "display_name": ".venv",
   "language": "python",
   "name": "python3"
  },
  "language_info": {
   "codemirror_mode": {
    "name": "ipython",
    "version": 3
   },
   "file_extension": ".py",
   "mimetype": "text/x-python",
   "name": "python",
   "nbconvert_exporter": "python",
   "pygments_lexer": "ipython3",
   "version": "3.10.11"
  }
 },
 "nbformat": 4,
 "nbformat_minor": 2
}
